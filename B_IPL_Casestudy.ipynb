{
 "cells": [
  {
   "cell_type": "markdown",
   "metadata": {
    "id": "t4GBN0c2NAtd"
   },
   "source": [
    "## Problem Statement\n",
    "\n",
    "Indian Premier League (IPL) is a league for Twenty20 (T20) cricket championships started in India. The auction price of the player depends on his performance in test matches or one-day internationals. The primary skill of the player also contributes to the auction price. We use different regression techniques to predict the auction price of the player."
   ]
  },
  {
   "cell_type": "markdown",
   "metadata": {
    "id": "yk80DAgzNAtf"
   },
   "source": [
    "## About the dataset (IPL Auction data)\n",
    "\n",
    "**PLAYER NAME**: Name of the player<br>\n",
    "**AGE**: The age of the player is classified into three categories. Category 1 means the player is less than 25 years old. Category 2 means the player is between 25 and 35 years and Category 3 means the player has aged more than 35.<br>\n",
    "**COUNTRY**: Country of the player<br>\n",
    "**PLAYING ROLE**: Player's primary skill<br>\n",
    "**T-RUNS**: Total runs scored in the test matches<br>\n",
    "**T-WKTS**: Total wickets taken in the test matches<br>\n",
    "**ODI-RUNS-S**: Runs scored in One Day Internationals<br>\n",
    "**ODI-SR-B**: Batting strike rate in One Day Internationals<br>\n",
    "**ODI-WKTS**: Wickets taken in One Day Internationals<br>\n",
    "**ODI-SR-BL**: Bowling strike rate in One Day Internationals<br>\n",
    "**CAPTAINCY EXP**: Captained a team or not<br>\n",
    "**RUNS-S**: Number of runs scored by a player<br>\n",
    "**HS**: Highest score by a batsman in IPL<br>\n",
    "**AVE**: Average runs scored by a batsman in IPL<br>\n",
    "**SR-B**: Batting strike rate (ratio of the number of runs scored to the number of basses faced) in IPL.<br>\n",
    "**SIXERS**: Number of six runs scored by a player in IPL.<br>\n",
    "**RUNS-C**: Number of runs conceded by a player<br>\n",
    "**WKTS**: Number of wickets were taken by a player in IPL.<br>\n",
    "**AVE-BL**: Bowling average (number of runs conceded / number of wickets taken) in IPL.<br>\n",
    "**ECON**: Economy rate of a bowler in IPL (number of runs conceded by the bowler per over).<br>\n",
    "**SR-BL**: Bowling strike rate (ratio of the number of balls bowled to the number of wickets taken) in IPL.<br>\n",
    "**SOLD PRICE**: Auction price of the player (Target Variable)<br>"
   ]
  },
  {
   "cell_type": "markdown",
   "metadata": {
    "id": "tMJ5ORWLNAtk"
   },
   "source": [
    "<a id=\"lib\"></a>\n",
    "# 1. Import Libraries"
   ]
  },
  {
   "cell_type": "markdown",
   "metadata": {
    "id": "-NufG3zdNAtl"
   },
   "source": [
    "**Let us import the required libraries.**"
   ]
  },
  {
   "cell_type": "code",
   "execution_count": 2,
   "metadata": {
    "id": "-9rU_R4lNAtn"
   },
   "outputs": [],
   "source": [
    "# import 'Pandas' \n",
    "import pandas as pd \n",
    "\n",
    "# import 'Numpy' \n",
    "import numpy as np\n",
    "\n",
    "# import subpackage of Matplotlib\n",
    "import matplotlib.pyplot as plt\n",
    "\n",
    "# import 'Seaborn' \n",
    "import seaborn as sns\n",
    "\n",
    "# to suppress warnings \n",
    "from warnings import filterwarnings\n",
    "filterwarnings('ignore')\n",
    "\n",
    "# display all columns of the dataframe\n",
    "pd.options.display.max_columns = None\n",
    "\n",
    "# display all rows of the dataframe\n",
    "pd.options.display.max_rows = None\n",
    " \n",
    "# to display the float values upto 6 decimal places     \n",
    "pd.options.display.float_format = '{:.6f}'.format\n",
    "\n",
    "# import train-test split \n",
    "from sklearn.model_selection import train_test_split\n",
    "\n",
    "# import various functions from statsmodels\n",
    "import statsmodels\n",
    "import statsmodels.api as sm\n",
    "\n",
    "# import 'stats'\n",
    "from scipy import stats\n",
    "\n",
    "# 'metrics' from sklearn is used for evaluating the model performance\n",
    "from sklearn.metrics import mean_squared_error\n",
    "from sklearn.metrics import mean_absolute_error\n",
    "\n",
    "\n",
    "# import function to perform linear regression\n",
    "from sklearn.linear_model import LinearRegression\n",
    "\n",
    "# import StandardScaler to perform scaling\n",
    "from sklearn.preprocessing import StandardScaler \n",
    "\n",
    "# import SGDRegressor from sklearn to perform linear regression with stochastic gradient descent\n",
    "from sklearn.linear_model import SGDRegressor\n",
    "\n",
    "# import function for ridge regression\n",
    "from sklearn.linear_model import Ridge\n",
    "\n",
    "# import function for lasso regression\n",
    "from sklearn.linear_model import Lasso\n",
    "\n",
    "# import function for elastic net regression\n",
    "from sklearn.linear_model import ElasticNet\n",
    "\n",
    "# import function to perform GridSearchCV\n",
    "from sklearn.model_selection import GridSearchCV"
   ]
  },
  {
   "cell_type": "code",
   "execution_count": 3,
   "metadata": {
    "id": "1eUTssmDNAtq"
   },
   "outputs": [],
   "source": [
    "# set the plot size using 'rcParams'\n",
    "# once the plot size is set using 'rcParams', it sets the size of all the forthcoming plots in the file\n",
    "# pass width and height in inches to 'figure.figsize' \n",
    "plt.rcParams['figure.figsize'] = [15,8]"
   ]
  },
  {
   "cell_type": "markdown",
   "metadata": {
    "id": "0SQRx-f4NAtr"
   },
   "source": [
    "<a id=\"prep\"></a>\n",
    "# 2. Data Preparation"
   ]
  },
  {
   "cell_type": "markdown",
   "metadata": {
    "id": "9I2kENgeNAtt"
   },
   "source": [
    "<a id=\"read\"></a>\n",
    "## 2.1 Read the Data"
   ]
  },
  {
   "cell_type": "markdown",
   "metadata": {
    "id": "PPMIrIKDNAtu"
   },
   "source": [
    "#### Read the dataset and print the first five observations."
   ]
  },
  {
   "cell_type": "code",
   "execution_count": 4,
   "metadata": {
    "id": "DfcCkm-PNAtv",
    "outputId": "09b2181d-ef8c-4a7f-f98e-78e2bf1a5704"
   },
   "outputs": [
    {
     "data": {
      "text/html": [
       "<div>\n",
       "<style scoped>\n",
       "    .dataframe tbody tr th:only-of-type {\n",
       "        vertical-align: middle;\n",
       "    }\n",
       "\n",
       "    .dataframe tbody tr th {\n",
       "        vertical-align: top;\n",
       "    }\n",
       "\n",
       "    .dataframe thead th {\n",
       "        text-align: right;\n",
       "    }\n",
       "</style>\n",
       "<table border=\"1\" class=\"dataframe\">\n",
       "  <thead>\n",
       "    <tr style=\"text-align: right;\">\n",
       "      <th></th>\n",
       "      <th>PLAYER NAME</th>\n",
       "      <th>AGE</th>\n",
       "      <th>COUNTRY</th>\n",
       "      <th>PLAYING ROLE</th>\n",
       "      <th>T-RUNS</th>\n",
       "      <th>T-WKTS</th>\n",
       "      <th>ODI-RUNS-S</th>\n",
       "      <th>ODI-SR-B</th>\n",
       "      <th>ODI-WKTS</th>\n",
       "      <th>ODI-SR-BL</th>\n",
       "      <th>CAPTAINCY EXP</th>\n",
       "      <th>RUNS-S</th>\n",
       "      <th>HS</th>\n",
       "      <th>AVE</th>\n",
       "      <th>SR-B</th>\n",
       "      <th>SIXERS</th>\n",
       "      <th>RUNS-C</th>\n",
       "      <th>WKTS</th>\n",
       "      <th>AVE-BL</th>\n",
       "      <th>ECON</th>\n",
       "      <th>SR-BL</th>\n",
       "      <th>SOLD PRICE</th>\n",
       "    </tr>\n",
       "  </thead>\n",
       "  <tbody>\n",
       "    <tr>\n",
       "      <th>0</th>\n",
       "      <td>Abdulla</td>\n",
       "      <td>2</td>\n",
       "      <td>South Africa</td>\n",
       "      <td>Allrounder</td>\n",
       "      <td>0</td>\n",
       "      <td>0</td>\n",
       "      <td>0</td>\n",
       "      <td>0.000000</td>\n",
       "      <td>0</td>\n",
       "      <td>0.000000</td>\n",
       "      <td>0</td>\n",
       "      <td>0</td>\n",
       "      <td>0</td>\n",
       "      <td>0.000000</td>\n",
       "      <td>0.000000</td>\n",
       "      <td>0</td>\n",
       "      <td>307</td>\n",
       "      <td>15</td>\n",
       "      <td>20.470000</td>\n",
       "      <td>9.900000</td>\n",
       "      <td>13.930000</td>\n",
       "      <td>50000</td>\n",
       "    </tr>\n",
       "    <tr>\n",
       "      <th>1</th>\n",
       "      <td>Abdur Razzak</td>\n",
       "      <td>2</td>\n",
       "      <td>Bangladesh</td>\n",
       "      <td>Bowler</td>\n",
       "      <td>266</td>\n",
       "      <td>18</td>\n",
       "      <td>657</td>\n",
       "      <td>71.410000</td>\n",
       "      <td>185</td>\n",
       "      <td>37.600000</td>\n",
       "      <td>0</td>\n",
       "      <td>0</td>\n",
       "      <td>0</td>\n",
       "      <td>0.000000</td>\n",
       "      <td>0.000000</td>\n",
       "      <td>0</td>\n",
       "      <td>29</td>\n",
       "      <td>0</td>\n",
       "      <td>0.000000</td>\n",
       "      <td>17.500000</td>\n",
       "      <td>0.000000</td>\n",
       "      <td>50000</td>\n",
       "    </tr>\n",
       "    <tr>\n",
       "      <th>2</th>\n",
       "      <td>Agarkar</td>\n",
       "      <td>2</td>\n",
       "      <td>India</td>\n",
       "      <td>Bowler</td>\n",
       "      <td>669</td>\n",
       "      <td>58</td>\n",
       "      <td>1269</td>\n",
       "      <td>80.620000</td>\n",
       "      <td>288</td>\n",
       "      <td>32.900000</td>\n",
       "      <td>0</td>\n",
       "      <td>167</td>\n",
       "      <td>39</td>\n",
       "      <td>18.560000</td>\n",
       "      <td>121.010000</td>\n",
       "      <td>5</td>\n",
       "      <td>1059</td>\n",
       "      <td>29</td>\n",
       "      <td>36.520000</td>\n",
       "      <td>8.810000</td>\n",
       "      <td>24.900000</td>\n",
       "      <td>350000</td>\n",
       "    </tr>\n",
       "    <tr>\n",
       "      <th>3</th>\n",
       "      <td>Ashwin</td>\n",
       "      <td>1</td>\n",
       "      <td>India</td>\n",
       "      <td>Bowler</td>\n",
       "      <td>308</td>\n",
       "      <td>31</td>\n",
       "      <td>241</td>\n",
       "      <td>84.560000</td>\n",
       "      <td>51</td>\n",
       "      <td>36.800000</td>\n",
       "      <td>0</td>\n",
       "      <td>58</td>\n",
       "      <td>11</td>\n",
       "      <td>5.800000</td>\n",
       "      <td>76.320000</td>\n",
       "      <td>0</td>\n",
       "      <td>1125</td>\n",
       "      <td>49</td>\n",
       "      <td>22.960000</td>\n",
       "      <td>8.230000</td>\n",
       "      <td>22.140000</td>\n",
       "      <td>850000</td>\n",
       "    </tr>\n",
       "    <tr>\n",
       "      <th>4</th>\n",
       "      <td>Badrinath</td>\n",
       "      <td>2</td>\n",
       "      <td>India</td>\n",
       "      <td>Batsman</td>\n",
       "      <td>109</td>\n",
       "      <td>0</td>\n",
       "      <td>79</td>\n",
       "      <td>45.930000</td>\n",
       "      <td>0</td>\n",
       "      <td>0.000000</td>\n",
       "      <td>0</td>\n",
       "      <td>1317</td>\n",
       "      <td>71</td>\n",
       "      <td>32.930000</td>\n",
       "      <td>120.710000</td>\n",
       "      <td>28</td>\n",
       "      <td>0</td>\n",
       "      <td>0</td>\n",
       "      <td>0.000000</td>\n",
       "      <td>1.000000</td>\n",
       "      <td>0.000000</td>\n",
       "      <td>800000</td>\n",
       "    </tr>\n",
       "  </tbody>\n",
       "</table>\n",
       "</div>"
      ],
      "text/plain": [
       "    PLAYER NAME  AGE       COUNTRY PLAYING ROLE  T-RUNS  T-WKTS  ODI-RUNS-S  \\\n",
       "0       Abdulla    2  South Africa   Allrounder       0       0           0   \n",
       "1  Abdur Razzak    2    Bangladesh       Bowler     266      18         657   \n",
       "2       Agarkar    2         India       Bowler     669      58        1269   \n",
       "3        Ashwin    1         India       Bowler     308      31         241   \n",
       "4     Badrinath    2         India      Batsman     109       0          79   \n",
       "\n",
       "   ODI-SR-B  ODI-WKTS  ODI-SR-BL  CAPTAINCY EXP  RUNS-S  HS       AVE  \\\n",
       "0  0.000000         0   0.000000              0       0   0  0.000000   \n",
       "1 71.410000       185  37.600000              0       0   0  0.000000   \n",
       "2 80.620000       288  32.900000              0     167  39 18.560000   \n",
       "3 84.560000        51  36.800000              0      58  11  5.800000   \n",
       "4 45.930000         0   0.000000              0    1317  71 32.930000   \n",
       "\n",
       "        SR-B  SIXERS  RUNS-C  WKTS    AVE-BL      ECON     SR-BL  SOLD PRICE  \n",
       "0   0.000000       0     307    15 20.470000  9.900000 13.930000       50000  \n",
       "1   0.000000       0      29     0  0.000000 17.500000  0.000000       50000  \n",
       "2 121.010000       5    1059    29 36.520000  8.810000 24.900000      350000  \n",
       "3  76.320000       0    1125    49 22.960000  8.230000 22.140000      850000  \n",
       "4 120.710000      28       0     0  0.000000  1.000000  0.000000      800000  "
      ]
     },
     "execution_count": 4,
     "metadata": {},
     "output_type": "execute_result"
    }
   ],
   "source": [
    "# load the csv file\n",
    "# store the data in 'df_ipl'\n",
    "df_ipl = pd.read_csv('ipl_player_auction.csv')\n",
    "\n",
    "# display first five observations using head()\n",
    "df_ipl.head()"
   ]
  },
  {
   "cell_type": "markdown",
   "metadata": {
    "id": "tsp9U6vmNAty"
   },
   "source": [
    "**Let us now see the number of variables and observations in the data.**"
   ]
  },
  {
   "cell_type": "code",
   "execution_count": 5,
   "metadata": {
    "id": "n5VgGdmoNAtz",
    "outputId": "31e96c9f-712b-497f-b045-93bd28544e42"
   },
   "outputs": [
    {
     "data": {
      "text/plain": [
       "(130, 22)"
      ]
     },
     "execution_count": 5,
     "metadata": {},
     "output_type": "execute_result"
    }
   ],
   "source": [
    "# use 'shape' to check the dimension of data\n",
    "df_ipl.shape"
   ]
  },
  {
   "cell_type": "markdown",
   "metadata": {
    "id": "PBGwYJWbNAt0"
   },
   "source": [
    "**Interpretation:** The data has 130 observations and 22 variables."
   ]
  },
  {
   "cell_type": "markdown",
   "metadata": {
    "id": "pBhOhvaZNAt1"
   },
   "source": [
    "<a id=\"dtype\"></a>\n",
    "## 2.2 Check the Data Type"
   ]
  },
  {
   "cell_type": "markdown",
   "metadata": {
    "id": "FloWPJPgNAt2"
   },
   "source": [
    "**Check the data type of each variable. If the data type is not as per the data definition, change the data type.**"
   ]
  },
  {
   "cell_type": "code",
   "execution_count": 6,
   "metadata": {
    "id": "GHT0Wi9SNAt2",
    "outputId": "5ee53411-a864-4f38-b729-c7ef2afed32d",
    "scrolled": true
   },
   "outputs": [
    {
     "name": "stdout",
     "output_type": "stream",
     "text": [
      "<class 'pandas.core.frame.DataFrame'>\n",
      "RangeIndex: 130 entries, 0 to 129\n",
      "Data columns (total 22 columns):\n",
      " #   Column         Non-Null Count  Dtype  \n",
      "---  ------         --------------  -----  \n",
      " 0   PLAYER NAME    130 non-null    object \n",
      " 1   AGE            130 non-null    int64  \n",
      " 2   COUNTRY        130 non-null    object \n",
      " 3   PLAYING ROLE   130 non-null    object \n",
      " 4   T-RUNS         130 non-null    int64  \n",
      " 5   T-WKTS         130 non-null    int64  \n",
      " 6   ODI-RUNS-S     130 non-null    int64  \n",
      " 7   ODI-SR-B       130 non-null    float64\n",
      " 8   ODI-WKTS       130 non-null    int64  \n",
      " 9   ODI-SR-BL      130 non-null    float64\n",
      " 10  CAPTAINCY EXP  130 non-null    int64  \n",
      " 11  RUNS-S         130 non-null    int64  \n",
      " 12  HS             130 non-null    int64  \n",
      " 13  AVE            130 non-null    float64\n",
      " 14  SR-B           130 non-null    float64\n",
      " 15  SIXERS         130 non-null    int64  \n",
      " 16  RUNS-C         130 non-null    int64  \n",
      " 17  WKTS           130 non-null    int64  \n",
      " 18  AVE-BL         130 non-null    float64\n",
      " 19  ECON           130 non-null    float64\n",
      " 20  SR-BL          130 non-null    float64\n",
      " 21  SOLD PRICE     130 non-null    int64  \n",
      "dtypes: float64(7), int64(12), object(3)\n",
      "memory usage: 22.5+ KB\n"
     ]
    }
   ],
   "source": [
    "# use 'dtypes' to check the data type of a variable\n",
    "df_ipl.info()"
   ]
  },
  {
   "cell_type": "code",
   "execution_count": null,
   "metadata": {},
   "outputs": [],
   "source": []
  },
  {
   "cell_type": "code",
   "execution_count": 9,
   "metadata": {},
   "outputs": [],
   "source": [
    "# convert numerical variables to categorical (object) \n",
    "# use astype() to change the data type\n",
    "\n",
    "# change the data type of 'AGE' \n",
    "df_ipl['AGE'] = df_ipl['AGE'].astype('object')\n",
    "\n",
    "# change the data type of 'CAPTAINCY EXP'\n",
    "df_ipl['CAPTAINCY EXP'] = df_ipl['CAPTAINCY EXP'].astype('object')\n"
   ]
  },
  {
   "cell_type": "code",
   "execution_count": 10,
   "metadata": {},
   "outputs": [
    {
     "name": "stdout",
     "output_type": "stream",
     "text": [
      "<class 'pandas.core.frame.DataFrame'>\n",
      "RangeIndex: 130 entries, 0 to 129\n",
      "Data columns (total 22 columns):\n",
      " #   Column         Non-Null Count  Dtype  \n",
      "---  ------         --------------  -----  \n",
      " 0   PLAYER NAME    130 non-null    object \n",
      " 1   AGE            130 non-null    object \n",
      " 2   COUNTRY        130 non-null    object \n",
      " 3   PLAYING ROLE   130 non-null    object \n",
      " 4   T-RUNS         130 non-null    int64  \n",
      " 5   T-WKTS         130 non-null    int64  \n",
      " 6   ODI-RUNS-S     130 non-null    int64  \n",
      " 7   ODI-SR-B       130 non-null    float64\n",
      " 8   ODI-WKTS       130 non-null    int64  \n",
      " 9   ODI-SR-BL      130 non-null    float64\n",
      " 10  CAPTAINCY EXP  130 non-null    object \n",
      " 11  RUNS-S         130 non-null    int64  \n",
      " 12  HS             130 non-null    int64  \n",
      " 13  AVE            130 non-null    float64\n",
      " 14  SR-B           130 non-null    float64\n",
      " 15  SIXERS         130 non-null    int64  \n",
      " 16  RUNS-C         130 non-null    int64  \n",
      " 17  WKTS           130 non-null    int64  \n",
      " 18  AVE-BL         130 non-null    float64\n",
      " 19  ECON           130 non-null    float64\n",
      " 20  SR-BL          130 non-null    float64\n",
      " 21  SOLD PRICE     130 non-null    int64  \n",
      "dtypes: float64(7), int64(10), object(5)\n",
      "memory usage: 22.5+ KB\n"
     ]
    }
   ],
   "source": [
    "df_ipl.info()"
   ]
  },
  {
   "cell_type": "markdown",
   "metadata": {
    "id": "tLgew8_VNAt7"
   },
   "source": [
    "<a id=\"drop\"></a>\n",
    "## 2.3 Remove Insignificant Variables"
   ]
  },
  {
   "cell_type": "markdown",
   "metadata": {
    "id": "7b5crGAJNAt7"
   },
   "source": [
    "The column `PLAYER NAME` contains the name of the player, which is redundant for further analysis. Thus, we drop the column."
   ]
  },
  {
   "cell_type": "code",
   "execution_count": null,
   "metadata": {
    "id": "3P8w_4pmNAt7"
   },
   "outputs": [],
   "source": [
    "# drop the column 'PLAYER NAME' using drop()\n",
    "# 'axis = 1' drops the specified column\n",
    "df_ipl = df_ipl.drop('PLAYER NAME', axis = 1)"
   ]
  },
  {
   "cell_type": "markdown",
   "metadata": {
    "id": "q69BDxH7NAt8"
   },
   "source": [
    "<a id=\"null\"></a>\n",
    "## 2.4 Missing Value Treatment"
   ]
  },
  {
   "cell_type": "markdown",
   "metadata": {
    "id": "TShHIUyONAt8"
   },
   "source": [
    "First run a check for the presence of missing values and their percentage for each column. Then choose the right approach to treat them."
   ]
  },
  {
   "cell_type": "code",
   "execution_count": 13,
   "metadata": {},
   "outputs": [
    {
     "data": {
      "text/plain": [
       "PLAYER NAME      0\n",
       "AGE              0\n",
       "SR-BL            0\n",
       "ECON             0\n",
       "AVE-BL           0\n",
       "WKTS             0\n",
       "RUNS-C           0\n",
       "SIXERS           0\n",
       "SR-B             0\n",
       "AVE              0\n",
       "HS               0\n",
       "RUNS-S           0\n",
       "CAPTAINCY EXP    0\n",
       "ODI-SR-BL        0\n",
       "ODI-WKTS         0\n",
       "ODI-SR-B         0\n",
       "ODI-RUNS-S       0\n",
       "T-WKTS           0\n",
       "T-RUNS           0\n",
       "PLAYING ROLE     0\n",
       "COUNTRY          0\n",
       "SOLD PRICE       0\n",
       "dtype: int64"
      ]
     },
     "execution_count": 13,
     "metadata": {},
     "output_type": "execute_result"
    }
   ],
   "source": [
    "Total = df_ipl.isnull().sum().sort_values(ascending=False)          \n",
    "Total"
   ]
  },
  {
   "cell_type": "code",
   "execution_count": 11,
   "metadata": {
    "id": "DCAQVHyzNAt8",
    "outputId": "f618033a-658b-4578-a5e4-5616437a44ec"
   },
   "outputs": [
    {
     "data": {
      "text/html": [
       "<div>\n",
       "<style scoped>\n",
       "    .dataframe tbody tr th:only-of-type {\n",
       "        vertical-align: middle;\n",
       "    }\n",
       "\n",
       "    .dataframe tbody tr th {\n",
       "        vertical-align: top;\n",
       "    }\n",
       "\n",
       "    .dataframe thead th {\n",
       "        text-align: right;\n",
       "    }\n",
       "</style>\n",
       "<table border=\"1\" class=\"dataframe\">\n",
       "  <thead>\n",
       "    <tr style=\"text-align: right;\">\n",
       "      <th></th>\n",
       "      <th>Total</th>\n",
       "      <th>Percentage of Missing Values</th>\n",
       "    </tr>\n",
       "  </thead>\n",
       "  <tbody>\n",
       "    <tr>\n",
       "      <th>PLAYER NAME</th>\n",
       "      <td>0</td>\n",
       "      <td>0.000000</td>\n",
       "    </tr>\n",
       "    <tr>\n",
       "      <th>AGE</th>\n",
       "      <td>0</td>\n",
       "      <td>0.000000</td>\n",
       "    </tr>\n",
       "    <tr>\n",
       "      <th>SR-BL</th>\n",
       "      <td>0</td>\n",
       "      <td>0.000000</td>\n",
       "    </tr>\n",
       "    <tr>\n",
       "      <th>ECON</th>\n",
       "      <td>0</td>\n",
       "      <td>0.000000</td>\n",
       "    </tr>\n",
       "    <tr>\n",
       "      <th>AVE-BL</th>\n",
       "      <td>0</td>\n",
       "      <td>0.000000</td>\n",
       "    </tr>\n",
       "    <tr>\n",
       "      <th>WKTS</th>\n",
       "      <td>0</td>\n",
       "      <td>0.000000</td>\n",
       "    </tr>\n",
       "    <tr>\n",
       "      <th>RUNS-C</th>\n",
       "      <td>0</td>\n",
       "      <td>0.000000</td>\n",
       "    </tr>\n",
       "    <tr>\n",
       "      <th>SIXERS</th>\n",
       "      <td>0</td>\n",
       "      <td>0.000000</td>\n",
       "    </tr>\n",
       "    <tr>\n",
       "      <th>SR-B</th>\n",
       "      <td>0</td>\n",
       "      <td>0.000000</td>\n",
       "    </tr>\n",
       "    <tr>\n",
       "      <th>AVE</th>\n",
       "      <td>0</td>\n",
       "      <td>0.000000</td>\n",
       "    </tr>\n",
       "    <tr>\n",
       "      <th>HS</th>\n",
       "      <td>0</td>\n",
       "      <td>0.000000</td>\n",
       "    </tr>\n",
       "    <tr>\n",
       "      <th>RUNS-S</th>\n",
       "      <td>0</td>\n",
       "      <td>0.000000</td>\n",
       "    </tr>\n",
       "    <tr>\n",
       "      <th>CAPTAINCY EXP</th>\n",
       "      <td>0</td>\n",
       "      <td>0.000000</td>\n",
       "    </tr>\n",
       "    <tr>\n",
       "      <th>ODI-SR-BL</th>\n",
       "      <td>0</td>\n",
       "      <td>0.000000</td>\n",
       "    </tr>\n",
       "    <tr>\n",
       "      <th>ODI-WKTS</th>\n",
       "      <td>0</td>\n",
       "      <td>0.000000</td>\n",
       "    </tr>\n",
       "    <tr>\n",
       "      <th>ODI-SR-B</th>\n",
       "      <td>0</td>\n",
       "      <td>0.000000</td>\n",
       "    </tr>\n",
       "    <tr>\n",
       "      <th>ODI-RUNS-S</th>\n",
       "      <td>0</td>\n",
       "      <td>0.000000</td>\n",
       "    </tr>\n",
       "    <tr>\n",
       "      <th>T-WKTS</th>\n",
       "      <td>0</td>\n",
       "      <td>0.000000</td>\n",
       "    </tr>\n",
       "    <tr>\n",
       "      <th>T-RUNS</th>\n",
       "      <td>0</td>\n",
       "      <td>0.000000</td>\n",
       "    </tr>\n",
       "    <tr>\n",
       "      <th>PLAYING ROLE</th>\n",
       "      <td>0</td>\n",
       "      <td>0.000000</td>\n",
       "    </tr>\n",
       "    <tr>\n",
       "      <th>COUNTRY</th>\n",
       "      <td>0</td>\n",
       "      <td>0.000000</td>\n",
       "    </tr>\n",
       "    <tr>\n",
       "      <th>SOLD PRICE</th>\n",
       "      <td>0</td>\n",
       "      <td>0.000000</td>\n",
       "    </tr>\n",
       "  </tbody>\n",
       "</table>\n",
       "</div>"
      ],
      "text/plain": [
       "               Total  Percentage of Missing Values\n",
       "PLAYER NAME        0                      0.000000\n",
       "AGE                0                      0.000000\n",
       "SR-BL              0                      0.000000\n",
       "ECON               0                      0.000000\n",
       "AVE-BL             0                      0.000000\n",
       "WKTS               0                      0.000000\n",
       "RUNS-C             0                      0.000000\n",
       "SIXERS             0                      0.000000\n",
       "SR-B               0                      0.000000\n",
       "AVE                0                      0.000000\n",
       "HS                 0                      0.000000\n",
       "RUNS-S             0                      0.000000\n",
       "CAPTAINCY EXP      0                      0.000000\n",
       "ODI-SR-BL          0                      0.000000\n",
       "ODI-WKTS           0                      0.000000\n",
       "ODI-SR-B           0                      0.000000\n",
       "ODI-RUNS-S         0                      0.000000\n",
       "T-WKTS             0                      0.000000\n",
       "T-RUNS             0                      0.000000\n",
       "PLAYING ROLE       0                      0.000000\n",
       "COUNTRY            0                      0.000000\n",
       "SOLD PRICE         0                      0.000000"
      ]
     },
     "execution_count": 11,
     "metadata": {},
     "output_type": "execute_result"
    }
   ],
   "source": [
    "# sort the variables on the basis of total null values in the variable\n",
    "# 'isnull().sum()' returns the number of missing values in each variable\n",
    "# 'ascending = False' sorts values in the descending order\n",
    "# the variable with highest number of missing values will appear first\n",
    "Total = df_ipl.isnull().sum().sort_values(ascending=False)          \n",
    "\n",
    "# calculate percentage of missing values\n",
    "# 'ascending = False' sorts values in the descending order\n",
    "# the variable with highest percentage of missing values will appear first\n",
    "Percent = (df_ipl.isnull().sum()*100/df_ipl.isnull().count()).sort_values(ascending=False)   \n",
    "\n",
    "# concat the 'Total' and 'Percent' columns using 'concat' function\n",
    "# pass a list of column names in parameter 'keys' \n",
    "# 'axis = 1' concats along the columns\n",
    "missing_data = pd.concat([Total, Percent], axis = 1, keys = ['Total', 'Percentage of Missing Values'])    \n",
    "missing_data"
   ]
  },
  {
   "cell_type": "markdown",
   "metadata": {
    "id": "st1LCswtNAt9"
   },
   "source": [
    "**Interpretation:** The above output shows that there are no missing values in the data."
   ]
  },
  {
   "cell_type": "markdown",
   "metadata": {
    "id": "Yqo34aKXNAt9"
   },
   "source": [
    "<a id=\"dummy\"></a>\n",
    "## 2.5 Dummy Encode the Categorical Variables"
   ]
  },
  {
   "cell_type": "markdown",
   "metadata": {
    "id": "6aSnUGewNAt-"
   },
   "source": [
    "#### Split the dependent and independent variables."
   ]
  },
  {
   "cell_type": "code",
   "execution_count": 14,
   "metadata": {
    "id": "a3Ilu9RaNAt-"
   },
   "outputs": [],
   "source": [
    "# store the target variable 'SOLD PRICE' in a dataframe 'df_target'\n",
    "df_target = df_ipl['SOLD PRICE']\n",
    "\n",
    "# store all the independent variables in a dataframe 'df_feature' \n",
    "# drop the column 'SOLD PRICE' using drop()\n",
    "# 'axis = 1' drops the specified column\n",
    "df_feature = df_ipl.drop('SOLD PRICE', axis = 1)"
   ]
  },
  {
   "cell_type": "markdown",
   "metadata": {
    "id": "hz91H_hSNAt_"
   },
   "source": [
    "#### Filter numerical and categorical variables."
   ]
  },
  {
   "cell_type": "code",
   "execution_count": 18,
   "metadata": {
    "id": "bit45FpbNAt_",
    "outputId": "f856fa5b-9312-4bf0-d671-338ba6e086a2"
   },
   "outputs": [
    {
     "data": {
      "text/html": [
       "<div>\n",
       "<style scoped>\n",
       "    .dataframe tbody tr th:only-of-type {\n",
       "        vertical-align: middle;\n",
       "    }\n",
       "\n",
       "    .dataframe tbody tr th {\n",
       "        vertical-align: top;\n",
       "    }\n",
       "\n",
       "    .dataframe thead th {\n",
       "        text-align: right;\n",
       "    }\n",
       "</style>\n",
       "<table border=\"1\" class=\"dataframe\">\n",
       "  <thead>\n",
       "    <tr style=\"text-align: right;\">\n",
       "      <th></th>\n",
       "      <th>T-RUNS</th>\n",
       "      <th>T-WKTS</th>\n",
       "      <th>ODI-RUNS-S</th>\n",
       "      <th>ODI-SR-B</th>\n",
       "      <th>ODI-WKTS</th>\n",
       "      <th>ODI-SR-BL</th>\n",
       "      <th>RUNS-S</th>\n",
       "      <th>HS</th>\n",
       "      <th>AVE</th>\n",
       "      <th>SR-B</th>\n",
       "      <th>SIXERS</th>\n",
       "      <th>RUNS-C</th>\n",
       "      <th>WKTS</th>\n",
       "      <th>AVE-BL</th>\n",
       "      <th>ECON</th>\n",
       "      <th>SR-BL</th>\n",
       "    </tr>\n",
       "  </thead>\n",
       "  <tbody>\n",
       "    <tr>\n",
       "      <th>0</th>\n",
       "      <td>0</td>\n",
       "      <td>0</td>\n",
       "      <td>0</td>\n",
       "      <td>0.000000</td>\n",
       "      <td>0</td>\n",
       "      <td>0.000000</td>\n",
       "      <td>0</td>\n",
       "      <td>0</td>\n",
       "      <td>0.000000</td>\n",
       "      <td>0.000000</td>\n",
       "      <td>0</td>\n",
       "      <td>307</td>\n",
       "      <td>15</td>\n",
       "      <td>20.470000</td>\n",
       "      <td>9.900000</td>\n",
       "      <td>13.930000</td>\n",
       "    </tr>\n",
       "    <tr>\n",
       "      <th>1</th>\n",
       "      <td>266</td>\n",
       "      <td>18</td>\n",
       "      <td>657</td>\n",
       "      <td>71.410000</td>\n",
       "      <td>185</td>\n",
       "      <td>37.600000</td>\n",
       "      <td>0</td>\n",
       "      <td>0</td>\n",
       "      <td>0.000000</td>\n",
       "      <td>0.000000</td>\n",
       "      <td>0</td>\n",
       "      <td>29</td>\n",
       "      <td>0</td>\n",
       "      <td>0.000000</td>\n",
       "      <td>17.500000</td>\n",
       "      <td>0.000000</td>\n",
       "    </tr>\n",
       "  </tbody>\n",
       "</table>\n",
       "</div>"
      ],
      "text/plain": [
       "   T-RUNS  T-WKTS  ODI-RUNS-S  ODI-SR-B  ODI-WKTS  ODI-SR-BL  RUNS-S  HS  \\\n",
       "0       0       0           0  0.000000         0   0.000000       0   0   \n",
       "1     266      18         657 71.410000       185  37.600000       0   0   \n",
       "\n",
       "       AVE     SR-B  SIXERS  RUNS-C  WKTS    AVE-BL      ECON     SR-BL  \n",
       "0 0.000000 0.000000       0     307    15 20.470000  9.900000 13.930000  \n",
       "1 0.000000 0.000000       0      29     0  0.000000 17.500000  0.000000  "
      ]
     },
     "execution_count": 18,
     "metadata": {},
     "output_type": "execute_result"
    }
   ],
   "source": [
    "# filter the numerical features in the dataset\n",
    "# 'select_dtypes' is used to select the variables with given data type\n",
    "# 'include = [np.number]' will include all the numerical variables\n",
    "df_num = df_feature.select_dtypes(include = [np.number])\n",
    "\n",
    "# display numerical features\n",
    "df_num.head(2)"
   ]
  },
  {
   "cell_type": "code",
   "execution_count": 19,
   "metadata": {
    "id": "us4GM25HNAuB",
    "outputId": "6f64a545-ea23-454b-95a0-11acfabd5a8c"
   },
   "outputs": [
    {
     "data": {
      "text/html": [
       "<div>\n",
       "<style scoped>\n",
       "    .dataframe tbody tr th:only-of-type {\n",
       "        vertical-align: middle;\n",
       "    }\n",
       "\n",
       "    .dataframe tbody tr th {\n",
       "        vertical-align: top;\n",
       "    }\n",
       "\n",
       "    .dataframe thead th {\n",
       "        text-align: right;\n",
       "    }\n",
       "</style>\n",
       "<table border=\"1\" class=\"dataframe\">\n",
       "  <thead>\n",
       "    <tr style=\"text-align: right;\">\n",
       "      <th></th>\n",
       "      <th>PLAYER NAME</th>\n",
       "      <th>AGE</th>\n",
       "      <th>COUNTRY</th>\n",
       "      <th>PLAYING ROLE</th>\n",
       "      <th>CAPTAINCY EXP</th>\n",
       "    </tr>\n",
       "  </thead>\n",
       "  <tbody>\n",
       "    <tr>\n",
       "      <th>0</th>\n",
       "      <td>Abdulla</td>\n",
       "      <td>2</td>\n",
       "      <td>South Africa</td>\n",
       "      <td>Allrounder</td>\n",
       "      <td>0</td>\n",
       "    </tr>\n",
       "    <tr>\n",
       "      <th>1</th>\n",
       "      <td>Abdur Razzak</td>\n",
       "      <td>2</td>\n",
       "      <td>Bangladesh</td>\n",
       "      <td>Bowler</td>\n",
       "      <td>0</td>\n",
       "    </tr>\n",
       "    <tr>\n",
       "      <th>2</th>\n",
       "      <td>Agarkar</td>\n",
       "      <td>2</td>\n",
       "      <td>India</td>\n",
       "      <td>Bowler</td>\n",
       "      <td>0</td>\n",
       "    </tr>\n",
       "    <tr>\n",
       "      <th>3</th>\n",
       "      <td>Ashwin</td>\n",
       "      <td>1</td>\n",
       "      <td>India</td>\n",
       "      <td>Bowler</td>\n",
       "      <td>0</td>\n",
       "    </tr>\n",
       "    <tr>\n",
       "      <th>4</th>\n",
       "      <td>Badrinath</td>\n",
       "      <td>2</td>\n",
       "      <td>India</td>\n",
       "      <td>Batsman</td>\n",
       "      <td>0</td>\n",
       "    </tr>\n",
       "  </tbody>\n",
       "</table>\n",
       "</div>"
      ],
      "text/plain": [
       "    PLAYER NAME AGE       COUNTRY PLAYING ROLE CAPTAINCY EXP\n",
       "0       Abdulla   2  South Africa   Allrounder             0\n",
       "1  Abdur Razzak   2    Bangladesh       Bowler             0\n",
       "2       Agarkar   2         India       Bowler             0\n",
       "3        Ashwin   1         India       Bowler             0\n",
       "4     Badrinath   2         India      Batsman             0"
      ]
     },
     "execution_count": 19,
     "metadata": {},
     "output_type": "execute_result"
    }
   ],
   "source": [
    "# filter the categorical features in the dataset\n",
    "# 'select_dtypes' is used to select the variables with given data type\n",
    "# 'include = [np.object]' will include all the categorical variables\n",
    "df_cat = df_feature.select_dtypes(include = [object])\n",
    "\n",
    "# display categorical features\n",
    " "
   ]
  },
  {
   "cell_type": "code",
   "execution_count": 26,
   "metadata": {},
   "outputs": [],
   "source": [
    "df_cat  = df_cat.drop(['PLAYER NAME'],axis = 1)"
   ]
  },
  {
   "cell_type": "code",
   "execution_count": 1,
   "metadata": {},
   "outputs": [
    {
     "ename": "NameError",
     "evalue": "name 'df_cat' is not defined",
     "output_type": "error",
     "traceback": [
      "\u001b[1;31m---------------------------------------------------------------------------\u001b[0m",
      "\u001b[1;31mNameError\u001b[0m                                 Traceback (most recent call last)",
      "Cell \u001b[1;32mIn[1], line 1\u001b[0m\n\u001b[1;32m----> 1\u001b[0m categorical_columns \u001b[38;5;241m=\u001b[39m  \u001b[38;5;28mlist\u001b[39m(df_cat\u001b[38;5;241m.\u001b[39mcolumns)\n",
      "\u001b[1;31mNameError\u001b[0m: name 'df_cat' is not defined"
     ]
    }
   ],
   "source": [
    "categorical_columns =  list(df_cat.columns)"
   ]
  },
  {
   "cell_type": "markdown",
   "metadata": {
    "id": "sxq_HU2_NAuB"
   },
   "source": [
    "The regression method fails in presence of categorical variables. To overcome this we use (n-1) dummy encoding. \n",
    "\n",
    "**Encode the each categorical variable and create (n-1) dummy variables for n categories of the variable.**"
   ]
  },
  {
   "cell_type": "code",
   "execution_count": 28,
   "metadata": {},
   "outputs": [],
   "source": [
    "dummy_var = pd.get_dummies(data = df_cat, prefix = None, prefix_sep='_',\n",
    "               columns = categorical_columns,\n",
    "               drop_first =True,\n",
    "              dtype='int8')"
   ]
  },
  {
   "cell_type": "code",
   "execution_count": 32,
   "metadata": {},
   "outputs": [
    {
     "data": {
      "text/plain": [
       "AGE\n",
       "2    86\n",
       "3    28\n",
       "1    16\n",
       "Name: count, dtype: int64"
      ]
     },
     "execution_count": 32,
     "metadata": {},
     "output_type": "execute_result"
    }
   ],
   "source": [
    " df_ipl['AGE'].value_counts()"
   ]
  },
  {
   "cell_type": "code",
   "execution_count": 29,
   "metadata": {},
   "outputs": [
    {
     "data": {
      "text/html": [
       "<div>\n",
       "<style scoped>\n",
       "    .dataframe tbody tr th:only-of-type {\n",
       "        vertical-align: middle;\n",
       "    }\n",
       "\n",
       "    .dataframe tbody tr th {\n",
       "        vertical-align: top;\n",
       "    }\n",
       "\n",
       "    .dataframe thead th {\n",
       "        text-align: right;\n",
       "    }\n",
       "</style>\n",
       "<table border=\"1\" class=\"dataframe\">\n",
       "  <thead>\n",
       "    <tr style=\"text-align: right;\">\n",
       "      <th></th>\n",
       "      <th>AGE_2</th>\n",
       "      <th>AGE_3</th>\n",
       "      <th>COUNTRY_Bangladesh</th>\n",
       "      <th>COUNTRY_England</th>\n",
       "      <th>COUNTRY_India</th>\n",
       "      <th>COUNTRY_New Zealand</th>\n",
       "      <th>COUNTRY_Pakistan</th>\n",
       "      <th>COUNTRY_South Africa</th>\n",
       "      <th>COUNTRY_Sri Lanka</th>\n",
       "      <th>COUNTRY_West Indies</th>\n",
       "      <th>COUNTRY_Zimbabwe</th>\n",
       "      <th>PLAYING ROLE_Batsman</th>\n",
       "      <th>PLAYING ROLE_Bowler</th>\n",
       "      <th>PLAYING ROLE_W. Keeper</th>\n",
       "      <th>CAPTAINCY EXP_1</th>\n",
       "    </tr>\n",
       "  </thead>\n",
       "  <tbody>\n",
       "    <tr>\n",
       "      <th>0</th>\n",
       "      <td>1</td>\n",
       "      <td>0</td>\n",
       "      <td>0</td>\n",
       "      <td>0</td>\n",
       "      <td>0</td>\n",
       "      <td>0</td>\n",
       "      <td>0</td>\n",
       "      <td>1</td>\n",
       "      <td>0</td>\n",
       "      <td>0</td>\n",
       "      <td>0</td>\n",
       "      <td>0</td>\n",
       "      <td>0</td>\n",
       "      <td>0</td>\n",
       "      <td>0</td>\n",
       "    </tr>\n",
       "    <tr>\n",
       "      <th>1</th>\n",
       "      <td>1</td>\n",
       "      <td>0</td>\n",
       "      <td>1</td>\n",
       "      <td>0</td>\n",
       "      <td>0</td>\n",
       "      <td>0</td>\n",
       "      <td>0</td>\n",
       "      <td>0</td>\n",
       "      <td>0</td>\n",
       "      <td>0</td>\n",
       "      <td>0</td>\n",
       "      <td>0</td>\n",
       "      <td>1</td>\n",
       "      <td>0</td>\n",
       "      <td>0</td>\n",
       "    </tr>\n",
       "  </tbody>\n",
       "</table>\n",
       "</div>"
      ],
      "text/plain": [
       "   AGE_2  AGE_3  COUNTRY_Bangladesh  COUNTRY_England  COUNTRY_India  \\\n",
       "0      1      0                   0                0              0   \n",
       "1      1      0                   1                0              0   \n",
       "\n",
       "   COUNTRY_New Zealand  COUNTRY_Pakistan  COUNTRY_South Africa  \\\n",
       "0                    0                 0                     1   \n",
       "1                    0                 0                     0   \n",
       "\n",
       "   COUNTRY_Sri Lanka  COUNTRY_West Indies  COUNTRY_Zimbabwe  \\\n",
       "0                  0                    0                 0   \n",
       "1                  0                    0                 0   \n",
       "\n",
       "   PLAYING ROLE_Batsman  PLAYING ROLE_Bowler  PLAYING ROLE_W. Keeper  \\\n",
       "0                     0                    0                       0   \n",
       "1                     0                    1                       0   \n",
       "\n",
       "   CAPTAINCY EXP_1  \n",
       "0                0  \n",
       "1                0  "
      ]
     },
     "execution_count": 29,
     "metadata": {},
     "output_type": "execute_result"
    }
   ],
   "source": [
    "dummy_var.head(2)"
   ]
  },
  {
   "cell_type": "markdown",
   "metadata": {
    "id": "Ux2OqMMyNAuF"
   },
   "source": [
    "**Interpretation:** We can see that the dummy variables are added to the data. '1' in the column 'AGE_2' represents that the age of the corresponding player is between 25 to 35 years. Also, the '0' in both the columns 'AGE_2' and 'AGE_3' indicates that the age of the corresponding player is less than 25."
   ]
  },
  {
   "cell_type": "markdown",
   "metadata": {
    "id": "plGRRzF9NAuC"
   },
   "source": [
    "<a id=\"scale\"></a>\n",
    "## 2.6 Scale the Data "
   ]
  },
  {
   "cell_type": "markdown",
   "metadata": {
    "id": "dd2K1me2NAuD"
   },
   "source": [
    "We scale the variables to get all the variables in the same range. With this, we can avoid a problem in which some features come to dominate solely because they tend to have larger impact than others."
   ]
  },
  {
   "cell_type": "code",
   "execution_count": 36,
   "metadata": {
    "id": "2PU-Eo8QNAuD"
   },
   "outputs": [],
   "source": [
    "# initialize the standard scalar\n",
    "X_scaler = StandardScaler()\n",
    "\n",
    "# scale all the numeric variables\n",
    "# standardize all the columns of the dataframe 'df_num'\n",
    "num_scaled = X_scaler.fit_transform(df_num)\n",
    "\n",
    "# create a dataframe of scaled numerical variables\n",
    "# pass the required column names to the parameter 'columns'\n",
    "df_num_scaled = pd.DataFrame(num_scaled, columns = df_num.columns)\n",
    "\n",
    "# standardize the target variable explicitly and store it in a new variable 'y'\n",
    "y = (df_target - df_target.mean()) / df_target.std()"
   ]
  },
  {
   "cell_type": "markdown",
   "metadata": {
    "id": "DVR4erEANAuD"
   },
   "source": [
    "#### Concatenate scaled numerical and dummy encoded categorical variables."
   ]
  },
  {
   "cell_type": "code",
   "execution_count": 37,
   "metadata": {
    "id": "LUD-hrqHNAuE",
    "outputId": "deba136e-0a93-4935-cbc9-2ca4e59ad98d"
   },
   "outputs": [
    {
     "data": {
      "text/html": [
       "<div>\n",
       "<style scoped>\n",
       "    .dataframe tbody tr th:only-of-type {\n",
       "        vertical-align: middle;\n",
       "    }\n",
       "\n",
       "    .dataframe tbody tr th {\n",
       "        vertical-align: top;\n",
       "    }\n",
       "\n",
       "    .dataframe thead th {\n",
       "        text-align: right;\n",
       "    }\n",
       "</style>\n",
       "<table border=\"1\" class=\"dataframe\">\n",
       "  <thead>\n",
       "    <tr style=\"text-align: right;\">\n",
       "      <th></th>\n",
       "      <th>T-RUNS</th>\n",
       "      <th>T-WKTS</th>\n",
       "      <th>ODI-RUNS-S</th>\n",
       "      <th>ODI-SR-B</th>\n",
       "      <th>ODI-WKTS</th>\n",
       "      <th>ODI-SR-BL</th>\n",
       "      <th>RUNS-S</th>\n",
       "      <th>HS</th>\n",
       "      <th>AVE</th>\n",
       "      <th>SR-B</th>\n",
       "      <th>SIXERS</th>\n",
       "      <th>RUNS-C</th>\n",
       "      <th>WKTS</th>\n",
       "      <th>AVE-BL</th>\n",
       "      <th>ECON</th>\n",
       "      <th>SR-BL</th>\n",
       "      <th>AGE_2</th>\n",
       "      <th>AGE_3</th>\n",
       "      <th>COUNTRY_Bangladesh</th>\n",
       "      <th>COUNTRY_England</th>\n",
       "      <th>COUNTRY_India</th>\n",
       "      <th>COUNTRY_New Zealand</th>\n",
       "      <th>COUNTRY_Pakistan</th>\n",
       "      <th>COUNTRY_South Africa</th>\n",
       "      <th>COUNTRY_Sri Lanka</th>\n",
       "      <th>COUNTRY_West Indies</th>\n",
       "      <th>COUNTRY_Zimbabwe</th>\n",
       "      <th>PLAYING ROLE_Batsman</th>\n",
       "      <th>PLAYING ROLE_Bowler</th>\n",
       "      <th>PLAYING ROLE_W. Keeper</th>\n",
       "      <th>CAPTAINCY EXP_1</th>\n",
       "    </tr>\n",
       "  </thead>\n",
       "  <tbody>\n",
       "    <tr>\n",
       "      <th>0</th>\n",
       "      <td>-0.674581</td>\n",
       "      <td>-0.468108</td>\n",
       "      <td>-0.703043</td>\n",
       "      <td>-2.757731</td>\n",
       "      <td>-0.686760</td>\n",
       "      <td>-1.277132</td>\n",
       "      <td>-0.839014</td>\n",
       "      <td>-1.307954</td>\n",
       "      <td>-1.693829</td>\n",
       "      <td>-3.102818</td>\n",
       "      <td>-0.745369</td>\n",
       "      <td>-0.303010</td>\n",
       "      <td>-0.096956</td>\n",
       "      <td>-0.123459</td>\n",
       "      <td>0.423147</td>\n",
       "      <td>-0.226928</td>\n",
       "      <td>1</td>\n",
       "      <td>0</td>\n",
       "      <td>0</td>\n",
       "      <td>0</td>\n",
       "      <td>0</td>\n",
       "      <td>0</td>\n",
       "      <td>0</td>\n",
       "      <td>1</td>\n",
       "      <td>0</td>\n",
       "      <td>0</td>\n",
       "      <td>0</td>\n",
       "      <td>0</td>\n",
       "      <td>0</td>\n",
       "      <td>0</td>\n",
       "      <td>0</td>\n",
       "    </tr>\n",
       "    <tr>\n",
       "      <th>1</th>\n",
       "      <td>-0.593774</td>\n",
       "      <td>-0.341460</td>\n",
       "      <td>-0.518927</td>\n",
       "      <td>0.008708</td>\n",
       "      <td>0.983269</td>\n",
       "      <td>0.133821</td>\n",
       "      <td>-0.839014</td>\n",
       "      <td>-1.307954</td>\n",
       "      <td>-1.693829</td>\n",
       "      <td>-3.102818</td>\n",
       "      <td>-0.745369</td>\n",
       "      <td>-0.802864</td>\n",
       "      <td>-0.786968</td>\n",
       "      <td>-1.111749</td>\n",
       "      <td>1.877704</td>\n",
       "      <td>-1.142498</td>\n",
       "      <td>1</td>\n",
       "      <td>0</td>\n",
       "      <td>1</td>\n",
       "      <td>0</td>\n",
       "      <td>0</td>\n",
       "      <td>0</td>\n",
       "      <td>0</td>\n",
       "      <td>0</td>\n",
       "      <td>0</td>\n",
       "      <td>0</td>\n",
       "      <td>0</td>\n",
       "      <td>0</td>\n",
       "      <td>1</td>\n",
       "      <td>0</td>\n",
       "      <td>0</td>\n",
       "    </tr>\n",
       "    <tr>\n",
       "      <th>2</th>\n",
       "      <td>-0.471347</td>\n",
       "      <td>-0.060022</td>\n",
       "      <td>-0.347421</td>\n",
       "      <td>0.365505</td>\n",
       "      <td>1.913068</td>\n",
       "      <td>-0.042548</td>\n",
       "      <td>-0.566677</td>\n",
       "      <td>-0.232487</td>\n",
       "      <td>-0.014415</td>\n",
       "      <td>0.278728</td>\n",
       "      <td>-0.534721</td>\n",
       "      <td>1.049112</td>\n",
       "      <td>0.547056</td>\n",
       "      <td>0.651433</td>\n",
       "      <td>0.214533</td>\n",
       "      <td>0.494091</td>\n",
       "      <td>1</td>\n",
       "      <td>0</td>\n",
       "      <td>0</td>\n",
       "      <td>0</td>\n",
       "      <td>1</td>\n",
       "      <td>0</td>\n",
       "      <td>0</td>\n",
       "      <td>0</td>\n",
       "      <td>0</td>\n",
       "      <td>0</td>\n",
       "      <td>0</td>\n",
       "      <td>0</td>\n",
       "      <td>1</td>\n",
       "      <td>0</td>\n",
       "      <td>0</td>\n",
       "    </tr>\n",
       "    <tr>\n",
       "      <th>3</th>\n",
       "      <td>-0.581015</td>\n",
       "      <td>-0.249993</td>\n",
       "      <td>-0.635505</td>\n",
       "      <td>0.518141</td>\n",
       "      <td>-0.226374</td>\n",
       "      <td>0.103801</td>\n",
       "      <td>-0.744430</td>\n",
       "      <td>-1.004617</td>\n",
       "      <td>-1.169012</td>\n",
       "      <td>-0.970105</td>\n",
       "      <td>-0.745369</td>\n",
       "      <td>1.167783</td>\n",
       "      <td>1.467072</td>\n",
       "      <td>-0.003242</td>\n",
       "      <td>0.103527</td>\n",
       "      <td>0.312686</td>\n",
       "      <td>0</td>\n",
       "      <td>0</td>\n",
       "      <td>0</td>\n",
       "      <td>0</td>\n",
       "      <td>1</td>\n",
       "      <td>0</td>\n",
       "      <td>0</td>\n",
       "      <td>0</td>\n",
       "      <td>0</td>\n",
       "      <td>0</td>\n",
       "      <td>0</td>\n",
       "      <td>0</td>\n",
       "      <td>1</td>\n",
       "      <td>0</td>\n",
       "      <td>0</td>\n",
       "    </tr>\n",
       "    <tr>\n",
       "      <th>4</th>\n",
       "      <td>-0.641468</td>\n",
       "      <td>-0.468108</td>\n",
       "      <td>-0.680904</td>\n",
       "      <td>-0.978393</td>\n",
       "      <td>-0.686760</td>\n",
       "      <td>-1.277132</td>\n",
       "      <td>1.308699</td>\n",
       "      <td>0.649946</td>\n",
       "      <td>1.285864</td>\n",
       "      <td>0.270344</td>\n",
       "      <td>0.434258</td>\n",
       "      <td>-0.855007</td>\n",
       "      <td>-0.786968</td>\n",
       "      <td>-1.111749</td>\n",
       "      <td>-1.280217</td>\n",
       "      <td>-1.142498</td>\n",
       "      <td>1</td>\n",
       "      <td>0</td>\n",
       "      <td>0</td>\n",
       "      <td>0</td>\n",
       "      <td>1</td>\n",
       "      <td>0</td>\n",
       "      <td>0</td>\n",
       "      <td>0</td>\n",
       "      <td>0</td>\n",
       "      <td>0</td>\n",
       "      <td>0</td>\n",
       "      <td>1</td>\n",
       "      <td>0</td>\n",
       "      <td>0</td>\n",
       "      <td>0</td>\n",
       "    </tr>\n",
       "  </tbody>\n",
       "</table>\n",
       "</div>"
      ],
      "text/plain": [
       "     T-RUNS    T-WKTS  ODI-RUNS-S  ODI-SR-B  ODI-WKTS  ODI-SR-BL    RUNS-S  \\\n",
       "0 -0.674581 -0.468108   -0.703043 -2.757731 -0.686760  -1.277132 -0.839014   \n",
       "1 -0.593774 -0.341460   -0.518927  0.008708  0.983269   0.133821 -0.839014   \n",
       "2 -0.471347 -0.060022   -0.347421  0.365505  1.913068  -0.042548 -0.566677   \n",
       "3 -0.581015 -0.249993   -0.635505  0.518141 -0.226374   0.103801 -0.744430   \n",
       "4 -0.641468 -0.468108   -0.680904 -0.978393 -0.686760  -1.277132  1.308699   \n",
       "\n",
       "         HS       AVE      SR-B    SIXERS    RUNS-C      WKTS    AVE-BL  \\\n",
       "0 -1.307954 -1.693829 -3.102818 -0.745369 -0.303010 -0.096956 -0.123459   \n",
       "1 -1.307954 -1.693829 -3.102818 -0.745369 -0.802864 -0.786968 -1.111749   \n",
       "2 -0.232487 -0.014415  0.278728 -0.534721  1.049112  0.547056  0.651433   \n",
       "3 -1.004617 -1.169012 -0.970105 -0.745369  1.167783  1.467072 -0.003242   \n",
       "4  0.649946  1.285864  0.270344  0.434258 -0.855007 -0.786968 -1.111749   \n",
       "\n",
       "       ECON     SR-BL  AGE_2  AGE_3  COUNTRY_Bangladesh  COUNTRY_England  \\\n",
       "0  0.423147 -0.226928      1      0                   0                0   \n",
       "1  1.877704 -1.142498      1      0                   1                0   \n",
       "2  0.214533  0.494091      1      0                   0                0   \n",
       "3  0.103527  0.312686      0      0                   0                0   \n",
       "4 -1.280217 -1.142498      1      0                   0                0   \n",
       "\n",
       "   COUNTRY_India  COUNTRY_New Zealand  COUNTRY_Pakistan  COUNTRY_South Africa  \\\n",
       "0              0                    0                 0                     1   \n",
       "1              0                    0                 0                     0   \n",
       "2              1                    0                 0                     0   \n",
       "3              1                    0                 0                     0   \n",
       "4              1                    0                 0                     0   \n",
       "\n",
       "   COUNTRY_Sri Lanka  COUNTRY_West Indies  COUNTRY_Zimbabwe  \\\n",
       "0                  0                    0                 0   \n",
       "1                  0                    0                 0   \n",
       "2                  0                    0                 0   \n",
       "3                  0                    0                 0   \n",
       "4                  0                    0                 0   \n",
       "\n",
       "   PLAYING ROLE_Batsman  PLAYING ROLE_Bowler  PLAYING ROLE_W. Keeper  \\\n",
       "0                     0                    0                       0   \n",
       "1                     0                    1                       0   \n",
       "2                     0                    1                       0   \n",
       "3                     0                    1                       0   \n",
       "4                     1                    0                       0   \n",
       "\n",
       "   CAPTAINCY EXP_1  \n",
       "0                0  \n",
       "1                0  \n",
       "2                0  \n",
       "3                0  \n",
       "4                0  "
      ]
     },
     "execution_count": 37,
     "metadata": {},
     "output_type": "execute_result"
    }
   ],
   "source": [
    "# concat the dummy variables with numeric features to create a dataframe of all independent variables\n",
    "# 'axis=1' concats the dataframes along columns \n",
    "X = pd.concat([df_num_scaled, dummy_var], axis = 1)\n",
    "\n",
    "# display first five observations\n",
    "X.head()"
   ]
  },
  {
   "cell_type": "markdown",
   "metadata": {
    "id": "Ux2OqMMyNAuF"
   },
   "source": [
    "**Interpretation:** We can see that the dummy variables are added to the data. '1' in the column 'AGE_2' represents that the age of the corresponding player is between 25 to 35 years. Also, the '0' in both the columns 'AGE_2' and 'AGE_3' indicates that the age of the corresponding player is less than 25."
   ]
  },
  {
   "cell_type": "markdown",
   "metadata": {
    "id": "Zxe_lcaQNAuG"
   },
   "source": [
    "<a id=\"split\"></a>\n",
    "## 2.7 Train-Test Split"
   ]
  },
  {
   "cell_type": "markdown",
   "metadata": {
    "id": "686tgxXnNAuG"
   },
   "source": [
    "Before applying variour regression techniques to predict the auction price of the player, let us split the dataset in train and test set."
   ]
  },
  {
   "cell_type": "code",
   "execution_count": 38,
   "metadata": {
    "id": "H5khihBGNAuG",
    "outputId": "a21d61e6-548c-451a-8355-cbabea028ad9",
    "scrolled": true
   },
   "outputs": [
    {
     "name": "stdout",
     "output_type": "stream",
     "text": [
      "X_train (104, 31)\n",
      "y_train (104,)\n",
      "X_test (26, 31)\n",
      "y_test (26,)\n"
     ]
    }
   ],
   "source": [
    "# split data into train subset and test subset\n",
    "# set 'random_state' to generate the same dataset each time you run the code \n",
    "# 'test_size' returns the proportion of data to be included in the testing set\n",
    "X_train, X_test, y_train, y_test = train_test_split(X, y, random_state = 10, test_size = 0.2)\n",
    "\n",
    "# check the dimensions of the train & test subset using 'shape'\n",
    "# print dimension of train set\n",
    "print('X_train', X_train.shape)\n",
    "print('y_train', y_train.shape)\n",
    "\n",
    "# print dimension of test set\n",
    "print('X_test', X_test.shape)\n",
    "print('y_test', y_test.shape)"
   ]
  },
  {
   "cell_type": "markdown",
   "metadata": {
    "id": "oSzK9qNKNAuH"
   },
   "source": [
    "## Create generalized functions to calculate various metrics for models"
   ]
  },
  {
   "cell_type": "markdown",
   "metadata": {
    "id": "EQN1g1qpNAuI"
   },
   "source": [
    "#### Create a generalized function to calculate the RMSE for train and test set."
   ]
  },
  {
   "cell_type": "code",
   "execution_count": 41,
   "metadata": {
    "id": "e5s67ZH7NAuI"
   },
   "outputs": [],
   "source": [
    "# create a generalized function to calculate the RMSE values for train set\n",
    "def get_train_rmse(model):\n",
    "    \n",
    "    # For training set:\n",
    "    # train_pred: prediction made by the model on the training dataset 'X_train'\n",
    "    # y_train: actual values ofthe target variable for the train dataset\n",
    "\n",
    "    # predict the output of the target variable from the train data \n",
    "    train_pred = model.predict(X_train)\n",
    "\n",
    "    # calculate the MSE using the \"mean_squared_error\" function\n",
    "\n",
    "    # MSE for the train data\n",
    "    mse_train = mean_squared_error(y_train, train_pred)\n",
    "\n",
    "    # take the square root of the MSE to calculate the RMSE\n",
    "    # round the value upto 4 digits using 'round()'\n",
    "    rmse_train = round(np.sqrt(mse_train), 4)\n",
    "    \n",
    "    # return the training RMSE\n",
    "    return(rmse_train)"
   ]
  },
  {
   "cell_type": "code",
   "execution_count": 42,
   "metadata": {
    "id": "FKwde-z_NAuJ"
   },
   "outputs": [],
   "source": [
    "# create a generalized function to calculate the RMSE values test set\n",
    "def get_test_rmse(model):\n",
    "    \n",
    "    # For testing set:\n",
    "    # test_pred: prediction made by the model on the test dataset 'X_test'\n",
    "    # y_test: actual values of the target variable for the test dataset\n",
    "\n",
    "    # predict the output of the target variable from the test data\n",
    "    test_pred = model.predict(X_test)\n",
    "\n",
    "    # MSE for the test data\n",
    "    mse_test = mean_squared_error(y_test, test_pred)\n",
    "\n",
    "    # take the square root of the MSE to calculate the RMSE\n",
    "    # round the value upto 4 digits using 'round()'\n",
    "    rmse_test = round(np.sqrt(mse_test), 4)\n",
    "\n",
    "    # return the test RMSE\n",
    "    return(rmse_test)"
   ]
  },
  {
   "cell_type": "markdown",
   "metadata": {
    "id": "v_9JbtxcNAuJ"
   },
   "source": [
    "#### Create a generalized function to calculate the MAPE for test set."
   ]
  },
  {
   "cell_type": "code",
   "execution_count": 43,
   "metadata": {
    "id": "Vld_LJfzNAuJ"
   },
   "outputs": [],
   "source": [
    "# define a function to calculate MAPE\n",
    "# pass the actual and predicted values as input to the function\n",
    "# return the calculated MAPE \n",
    "def mape(actual, predicted):\n",
    "    return (np.mean(np.abs((actual - predicted) / actual)) * 100)\n",
    "\n",
    "def get_test_mape(model):\n",
    "    \n",
    "    # For testing set:\n",
    "    # test_pred: prediction made by the model on the test dataset 'X_test'\n",
    "    # y_test: actual values of the target variable for the test dataset\n",
    "\n",
    "    # predict the output of the target variable from the test data\n",
    "    test_pred = model.predict(X_test)\n",
    "    \n",
    "    # calculate the mape using the \"mape()\" function created above\n",
    "    # calculate the MAPE for the test data\n",
    "    mape_test = mape(y_test, test_pred)\n",
    "\n",
    "    # return the MAPE for the test set\n",
    "    return(mape_test)"
   ]
  },
  {
   "cell_type": "markdown",
   "metadata": {
    "id": "WFuv8rUDNAuK"
   },
   "source": [
    "#### Create a generalized function to calculate the R-Squared and Adjusted R- Squared"
   ]
  },
  {
   "cell_type": "code",
   "execution_count": 44,
   "metadata": {
    "id": "yGIdx_y7NAuK"
   },
   "outputs": [],
   "source": [
    "# define a function to get R-squared and adjusted R-squared value\n",
    "def get_score(model):\n",
    "    \n",
    "    # score() returns the R-squared value\n",
    "    r_sq = model.score(X_train, y_train)\n",
    "    \n",
    "    # return the R-squared and adjusted R-squared value \n",
    "    return (r_sq)"
   ]
  },
  {
   "cell_type": "markdown",
   "metadata": {
    "id": "0mNP4VzwNAuM"
   },
   "source": [
    "<a id=\"linreg\"></a>\n",
    "# 3. Multiple Linear Regression (OLS)"
   ]
  },
  {
   "cell_type": "markdown",
   "metadata": {
    "id": "khFaJHk-NAuN"
   },
   "source": [
    "#### Build a MLR model on a training dataset."
   ]
  },
  {
   "cell_type": "code",
   "execution_count": 45,
   "metadata": {
    "id": "SNQZAM-8NAuN",
    "outputId": "81af8599-75fd-4167-8be1-986c633e6e34"
   },
   "outputs": [
    {
     "data": {
      "text/plain": [
       "0.5839698427213922"
      ]
     },
     "execution_count": 45,
     "metadata": {},
     "output_type": "execute_result"
    }
   ],
   "source": [
    "# initiate linear regression model\n",
    "linreg = LinearRegression()\n",
    "\n",
    "# build the model using X_train and y_train\n",
    "# use fit() to fit the regression model\n",
    "MLR_model = linreg.fit(X_train, y_train)\n",
    "\n",
    "# print the R-squared value for the model\n",
    "# score() returns the R-squared value\n",
    "#MLR_model.score(X_train, y_train)"
   ]
  },
  {
   "cell_type": "code",
   "execution_count": 48,
   "metadata": {},
   "outputs": [
    {
     "data": {
      "text/plain": [
       "0.5839698427213922"
      ]
     },
     "execution_count": 48,
     "metadata": {},
     "output_type": "execute_result"
    }
   ],
   "source": [
    "r_score = get_score(MLR_model)\n",
    "r_score*100"
   ]
  },
  {
   "cell_type": "code",
   "execution_count": null,
   "metadata": {},
   "outputs": [],
   "source": [
    "train_rmse =get_train_rmse(MLR_model)\n",
    "train_rmse"
   ]
  },
  {
   "cell_type": "code",
   "execution_count": null,
   "metadata": {},
   "outputs": [],
   "source": [
    "train_rmse =get_train_rmse(MLR_model)\n",
    "train_rmse"
   ]
  },
  {
   "cell_type": "code",
   "execution_count": null,
   "metadata": {},
   "outputs": [],
   "source": [
    "train_rmse - test_rmse"
   ]
  },
  {
   "cell_type": "code",
   "execution_count": null,
   "metadata": {},
   "outputs": [],
   "source": [
    "0.66\n",
    "0.88"
   ]
  },
  {
   "cell_type": "code",
   "execution_count": 47,
   "metadata": {
    "id": "pMfkS80dNAuO",
    "outputId": "6aa5d92b-8f33-45dd-e5ba-b05946ae4b21",
    "scrolled": true
   },
   "outputs": [
    {
     "name": "stdout",
     "output_type": "stream",
     "text": [
      "RMSE on train set:  0.6609\n",
      "RMSE on test set:  0.8741\n",
      "Difference between RMSE on train and test set:  0.21319999999999995\n"
     ]
    }
   ],
   "source": [
    "# print training RMSE\n",
    "print('RMSE on train set: ', get_train_rmse(MLR_model))\n",
    "\n",
    "# print training RMSE\n",
    "print('RMSE on test set: ', get_test_rmse(MLR_model))\n",
    "\n",
    "# calculate the difference between train and test set RMSE\n",
    "difference = abs(get_test_rmse(MLR_model) - get_train_rmse(MLR_model))\n",
    "\n",
    "# print the difference between train and test set RMSE\n",
    "print('Difference between RMSE on train and test set: ', difference)"
   ]
  },
  {
   "cell_type": "markdown",
   "metadata": {
    "id": "ygd0LggsNAuO"
   },
   "source": [
    "**Interpretation:** RMSE on the training set is 0.6609, while on the test set it is 0.8741. We can see that there is a large difference in the RMSE of the train and the test set. This implies that our model has overfitted on the train set. \n",
    "\n",
    "To deal with the problem of overfitting, we study the approach of `Regularization` in the later section. "
   ]
  },
  {
   "cell_type": "markdown",
   "metadata": {
    "id": "phxXecu2NAuS"
   },
   "source": [
    "<a id=\"regu\"></a>\n",
    "# 5. Regularization"
   ]
  },
  {
   "cell_type": "markdown",
   "metadata": {
    "id": "H-YzbXy4NAuT"
   },
   "source": [
    "One way to deal with the overfitting problem is by adding the `Regularization` to the model. It is observed that inflation of the coefficients cause overfitting. To prevent overfitting, it is important to regulate the coefficients by penalizing possible coefficient inflations. Regularization imposes penalties on parameters if they inflate to large values to prevent them from being weighted too heavily. In this section, we will learn about the three regularization techniques:\n",
    "\n",
    "1. Ridge Regression\n",
    "2. Lasso Regression\n",
    "3. Elastic Net Regression"
   ]
  },
  {
   "cell_type": "markdown",
   "metadata": {
    "id": "vkG3AF3CNAuT"
   },
   "source": [
    "<a id=\"ridge\"></a>\n",
    "## 5.1 Ridge Regression"
   ]
  },
  {
   "cell_type": "markdown",
   "metadata": {
    "id": "P3foSvTxNAuT"
   },
   "source": [
    "Most of the times our data can show multicollinearity in the variables. To analyze such data we can use `Ridge Regression`. It uses the L2 norm for regularization. "
   ]
  },
  {
   "cell_type": "markdown",
   "metadata": {
    "id": "mBtxj2BENAuU"
   },
   "source": [
    "#### Build regression model using Ridge Regression for alpha = 1."
   ]
  },
  {
   "cell_type": "code",
   "execution_count": 49,
   "metadata": {
    "id": "pdwYgx3YNAuU",
    "outputId": "749da4d7-ed33-4bca-ab0e-56796fe5a60a"
   },
   "outputs": [
    {
     "name": "stdout",
     "output_type": "stream",
     "text": [
      "RMSE on test set: 0.8438\n"
     ]
    }
   ],
   "source": [
    "# use Ridge() to perform ridge regression\n",
    "# 'alpha' assigns the regularization strength to the model\n",
    "# 'max_iter' assigns maximum number of iterations for the model to run \n",
    "ridge = Ridge(alpha = 1, max_iter = 500)\n",
    "\n",
    "# fit the model on train set\n",
    "ridge = ridge.fit(X_train, y_train)\n",
    "\n",
    "# print RMSE for test set\n",
    "# call the function 'get_test_rmse'\n",
    "print('RMSE on test set:', get_test_rmse(ridge))"
   ]
  },
  {
   "cell_type": "markdown",
   "metadata": {
    "id": "n111M7mvNAuU"
   },
   "source": [
    "**Interpretation:** After applying the ridge regression with alpha equal to one, we get 0.8438 as the RMSE value."
   ]
  },
  {
   "cell_type": "markdown",
   "metadata": {
    "id": "6MffJyf4NAuV"
   },
   "source": [
    "#### Build regression model using Ridge Regression for alpha = 2."
   ]
  },
  {
   "cell_type": "code",
   "execution_count": 50,
   "metadata": {
    "id": "VyP9HxSbNAuV",
    "outputId": "1ef26df3-6555-4329-af1e-587db2b7f8cb"
   },
   "outputs": [
    {
     "name": "stdout",
     "output_type": "stream",
     "text": [
      "RMSE on test set: 0.8367\n"
     ]
    }
   ],
   "source": [
    "# use Ridge() to perform ridge regression\n",
    "# 'alpha' assigns the regularization strength to the model\n",
    "# 'max_iter' assigns maximum number of iterations for the model to run\n",
    "ridge = Ridge(alpha = 2, max_iter = 500)\n",
    "\n",
    "# fit the model on train set\n",
    "ridge.fit(X_train, y_train)\n",
    "\n",
    "\n",
    "# print RMSE for test set\n",
    "# call the function 'get_test_rmse'\n",
    "print('RMSE on test set:', get_test_rmse(ridge))"
   ]
  },
  {
   "cell_type": "markdown",
   "metadata": {
    "id": "SAfYsNA_NAuW"
   },
   "source": [
    "**Interpretation:** After applying the ridge regression with alpha equal to two, the RMSE value decreased to 0.8367."
   ]
  },
  {
   "cell_type": "markdown",
   "metadata": {
    "id": "OPK9Vi9ENAuW"
   },
   "source": [
    "#### Visualize the change in values of coefficients obtained from `MLR_model (using OLS)` and `ridge_model`"
   ]
  },
  {
   "cell_type": "markdown",
   "metadata": {
    "id": "BO4y_V2wNAuX"
   },
   "source": [
    "**Interpretation:** The coefficients obtained from ridge regression have smaller values as compared to the coefficients obtained from linear regression using OLS."
   ]
  },
  {
   "cell_type": "markdown",
   "metadata": {
    "id": "1MRaPyJ6NAuX"
   },
   "source": [
    "<a id=\"lasso\"></a>\n",
    "## 5.2 Lasso Regression"
   ]
  },
  {
   "cell_type": "markdown",
   "metadata": {
    "id": "dyvVRjofNAuY"
   },
   "source": [
    "Lasso regression shrinks the less important variable's coefficient to zero which makes this technique more useful when we are dealing with large number of variables. It is a type of regularization technique that uses L1 norm for regularization. "
   ]
  },
  {
   "cell_type": "code",
   "execution_count": 51,
   "metadata": {
    "id": "Hwe2sDtKNAuY",
    "outputId": "43e41533-3251-445c-8c81-c30a94583630"
   },
   "outputs": [
    {
     "name": "stdout",
     "output_type": "stream",
     "text": [
      "RMSE on test set: 0.8183\n"
     ]
    }
   ],
   "source": [
    "# use Lasso() to perform lasso regression\n",
    "# 'alpha' assigns the regularization strength to the model\n",
    "# 'max_iter' assigns maximum number of iterations for the model to run\n",
    "lasso = Lasso(alpha = 0.01, max_iter = 500)\n",
    "\n",
    "# fit the model on train set\n",
    "lasso.fit(X_train, y_train)\n",
    "\n",
    "# print RMSE for test set\n",
    "# call the function 'get_test_rmse'\n",
    "print('RMSE on test set:', get_test_rmse(lasso))\n"
   ]
  },
  {
   "cell_type": "markdown",
   "metadata": {
    "id": "snstKeD_NAuY"
   },
   "source": [
    "**Interpretation:** After applying the lasso regression with alpha equal to 0.01, the RMSE value is 0.8183."
   ]
  },
  {
   "cell_type": "markdown",
   "metadata": {
    "id": "A5E3b6JnNAub"
   },
   "source": [
    "<a id=\"elastic\"></a>\n",
    "## 5.3 Elastic Net Regression"
   ]
  },
  {
   "cell_type": "markdown",
   "metadata": {
    "id": "AWsy0iCXNAub"
   },
   "source": [
    "This technique is a combination of Rigde and Lasso reression techniques. It considers the linear combination of penalties for L1 and L2 regularization."
   ]
  },
  {
   "cell_type": "code",
   "execution_count": 52,
   "metadata": {
    "id": "ufnMgmE7NAub",
    "outputId": "2c5c69d1-d6f8-4b3b-9195-862e80e0d4a9"
   },
   "outputs": [
    {
     "name": "stdout",
     "output_type": "stream",
     "text": [
      "RMSE on test set: 0.8013\n"
     ]
    }
   ],
   "source": [
    "# use ElasticNet() to perform Elastic Net regression\n",
    "# 'alpha' assigns the regularization strength to the model\n",
    "# 'l1_ratio' is the ElasticNet mixing parameter\n",
    "# 'l1_ratio = 0' performs Ridge regression\n",
    "# 'l1_ratio = 1' performs Lasso regression\n",
    "# pass number of iterations to 'max_iter'\n",
    "enet = ElasticNet(alpha = 0.1, l1_ratio = 0.01, max_iter = 500)\n",
    "\n",
    "# fit the model on train data\n",
    "enet.fit(X_train, y_train)\n",
    "\n",
    "\n",
    "# print RMSE for test set\n",
    "# call the function 'get_test_rmse'\n",
    "print('RMSE on test set:', get_test_rmse(enet))"
   ]
  },
  {
   "cell_type": "markdown",
   "metadata": {
    "id": "2QXvPprZNAuc"
   },
   "source": [
    "**Interpretation:** With the elastic-net regression, we get 0.8013 as the RMSE value."
   ]
  },
  {
   "cell_type": "markdown",
   "metadata": {
    "id": "Oqy5C2QfNAuc"
   },
   "source": [
    "#### Visualize the change in values of coefficients obtained from `MLR_model (using OLS)` and `Elastic Net regression`"
   ]
  },
  {
   "cell_type": "markdown",
   "metadata": {
    "id": "kBiHnwy2NAud"
   },
   "source": [
    "<a id=\"GScv\"></a>\n",
    "# 6. GridSearchCV"
   ]
  },
  {
   "cell_type": "markdown",
   "metadata": {
    "id": "rVsnakrLNAud"
   },
   "source": [
    "Hyperparameters are the parameters in the model that are preset by the user. GridSearch considers all the combinations of hyperparameters and returns the best hyperparameter values. Following are some of the parameters that GridSearchCV takes:\n",
    "\n",
    "1. estimator: pass the machine learning algorithm model\n",
    "2. param_grid: takes a dictionary having parameter names as keys and list of parameters as values\n",
    "3. cv: number of folds for k-fold cross validation"
   ]
  },
  {
   "cell_type": "markdown",
   "metadata": {
    "id": "7DEGfRddNAue"
   },
   "source": [
    "### Find optimal value of alpha for `Ridge Regression`"
   ]
  },
  {
   "cell_type": "code",
   "execution_count": 53,
   "metadata": {
    "id": "wxD4dCUzNAue",
    "outputId": "4aebf34e-ae42-46bb-b78c-6afb230f4dcc"
   },
   "outputs": [
    {
     "name": "stdout",
     "output_type": "stream",
     "text": [
      "Best parameters for Ridge Regression:  {'alpha': 19} \n",
      "\n",
      "RMSE on test set: 0.7852\n"
     ]
    }
   ],
   "source": [
    "# create a dictionary with hyperparameters and its values\n",
    "# 'alpha' assigns the regularization strength to the model\n",
    "# 'max_iter' assigns maximum number of iterations for the model to run\n",
    "tuned_paramaters = [{'alpha':[1e-15, 1e-10, 1e-8, 1e-4,1e-3, 1e-2, 0.1, 1, 5, 19, 40, 60, 80, 100]}]\n",
    " \n",
    "# initiate the ridge regression model\n",
    "ridge = Ridge()\n",
    "\n",
    "# use GridSearchCV() to find the optimal value of alpha\n",
    "# estimator: pass the ridge regression model\n",
    "# param_grid: pass the list 'tuned_parameters'\n",
    "# cv: number of folds in k-fold i.e. here cv = 10\n",
    "ridge_grid = GridSearchCV(estimator = ridge, \n",
    "                          param_grid = tuned_paramaters, \n",
    "                          cv = 5)\n",
    "\n",
    "# fit the model on X_train and y_train using fit()\n",
    "ridge_grid.fit(X_train, y_train)\n",
    "\n",
    "# get the best parameters\n",
    "print('Best parameters for Ridge Regression: ', ridge_grid.best_params_, '\\n')\n",
    "\n",
    "# print the RMSE for test set using the model having optimal value of alpha\n",
    "print('RMSE on test set:', get_test_rmse(ridge_grid))"
   ]
  },
  {
   "cell_type": "markdown",
   "metadata": {
    "id": "PfAHTqX3NAuf"
   },
   "source": [
    "**Interpretation:** With the optimal value of alpha that we got from GridSearchCV, the RMSE of test set decreased to 0.7841."
   ]
  },
  {
   "cell_type": "markdown",
   "metadata": {
    "id": "s4bL-pggNAuf"
   },
   "source": [
    "### Find optimal value of alpha for `Lasso Regression`"
   ]
  },
  {
   "cell_type": "code",
   "execution_count": 54,
   "metadata": {
    "id": "M0g4hzA7NAug",
    "outputId": "7c117880-60c0-4a26-984f-0984075f815c"
   },
   "outputs": [
    {
     "name": "stdout",
     "output_type": "stream",
     "text": [
      "Best parameters for Lasso Regression:  {'alpha': 0.1} \n",
      "\n",
      "RMSE on test set: 0.784\n"
     ]
    }
   ],
   "source": [
    "# create a dictionary with hyperparameters and its values\n",
    "# 'alpha' assigns the regularization strength to the model\n",
    "# 'max_iter' assigns maximum number of iterations for the model to run\n",
    "tuned_paramaters = [{'alpha':[1e-15, 1e-10, 1e-8, 0.0001, 0.001, 0.01, 0.1, 1, 5, 10, 20]}]\n",
    "                     \n",
    "# 'max_iter':100,500,1000,1500,2000\n",
    " \n",
    "# initiate the lasso regression model \n",
    "lasso = Lasso()\n",
    "\n",
    "# use GridSearchCV() to find the optimal value of alpha\n",
    "# estimator: pass the lasso regression model\n",
    "# param_grid: pass the list 'tuned_parameters'\n",
    "# cv: number of folds in k-fold i.e. here cv = 10\n",
    "lasso_grid = GridSearchCV(estimator = lasso, \n",
    "                          param_grid = tuned_paramaters, \n",
    "                          cv = 10)\n",
    "\n",
    "# fit the model on X_train and y_train using fit()\n",
    "lasso_grid.fit(X_train, y_train)\n",
    "\n",
    "# get the best parameters\n",
    "print('Best parameters for Lasso Regression: ', lasso_grid.best_params_, '\\n')\n",
    "\n",
    "# print the RMSE for the test set using the model having optimal value of alpha\n",
    "print('RMSE on test set:', get_test_rmse(lasso_grid))"
   ]
  },
  {
   "cell_type": "markdown",
   "metadata": {
    "id": "c6WopNs4NAug"
   },
   "source": [
    "**Interpretation:** With the optimal value of alpha that we got from GridSearchCV, the RMSE of test set is 0.784."
   ]
  },
  {
   "cell_type": "markdown",
   "metadata": {
    "id": "--J-EHvPNAuh"
   },
   "source": [
    "### Find optimal value of alpha for `Elastic Net Regression`"
   ]
  },
  {
   "cell_type": "code",
   "execution_count": 55,
   "metadata": {
    "id": "3EVzFKY2NAui",
    "outputId": "b886c0f4-2904-44e9-a7f1-3be753b77a5c"
   },
   "outputs": [
    {
     "name": "stdout",
     "output_type": "stream",
     "text": [
      "Best parameters for Elastic Net Regression:  {'alpha': 0.1, 'l1_ratio': 0.0001} \n",
      "\n",
      "RMSE on test set: 0.8004\n"
     ]
    }
   ],
   "source": [
    "# create a dictionary with hyperparameters and its values\n",
    "# 'alpha' assigns the regularization strength to the model\n",
    "# 'l1_ratio' is the ElasticNet mixing parameter\n",
    "# 'max_iter' assigns maximum number of iterations for the model to run\n",
    "tuned_paramaters = [{'alpha':[0.0001, 0.001, 0.01, 0.1, 1, 5, 10, 20, 40, 60],\n",
    "                      'l1_ratio':[0.0001, 0.0002, 0.001, 0.01, 0.1, 0.2]}]\n",
    "\n",
    "# initiate the elastic net regression model  \n",
    "enet = ElasticNet()\n",
    "\n",
    "# use GridSearchCV() to find the optimal value of alpha and l1_ratio\n",
    "# estimator: pass the elastic net regression model\n",
    "# param_grid: pass the list 'tuned_parameters'\n",
    "# cv: number of folds in k-fold i.e. here cv = 10\n",
    "enet_grid = GridSearchCV(estimator = enet, \n",
    "                          param_grid = tuned_paramaters, \n",
    "                          cv = 10)\n",
    "\n",
    "# fit the model on X_train and y_train using fit()\n",
    "enet_grid.fit(X_train, y_train)\n",
    "\n",
    "# get the best parameters\n",
    "print('Best parameters for Elastic Net Regression: ', enet_grid.best_params_, '\\n')\n",
    "\n",
    "# print the RMSE for the test set using the model having optimal value of alpha and l1-ratio\n",
    "print('RMSE on test set:', get_test_rmse(enet_grid))"
   ]
  },
  {
   "cell_type": "markdown",
   "metadata": {
    "id": "MYWjwtjxNAui"
   },
   "source": [
    "**Interpretation:** With the optimal value of alpha that we got from GridSearchCV, the RMSE of test set is 0.8004. "
   ]
  },
  {
   "cell_type": "markdown",
   "metadata": {
    "id": "ZOEHNPbINAul"
   },
   "source": [
    "**Interpretation:** We can see that `Ridge Regression (using GridSearchCV)` has the lowest test RMSE. Here, ridge regression with `alpha = 20` seems to deal with the problem of overfitting efficiently."
   ]
  }
 ],
 "metadata": {
  "colab": {
   "collapsed_sections": [
    "pBhOhvaZNAt1",
    "3NlceE2ENAt3",
    "qYUFOu1zNAt5",
    "tLgew8_VNAt7",
    "q69BDxH7NAt8",
    "Yqo34aKXNAt9",
    "6aSnUGewNAt-",
    "hz91H_hSNAt_",
    "plGRRzF9NAuC",
    "DVR4erEANAuD",
    "Zxe_lcaQNAuG",
    "oSzK9qNKNAuH",
    "EQN1g1qpNAuI",
    "v_9JbtxcNAuJ",
    "WFuv8rUDNAuK",
    "orAFHeKSNAuL",
    "evULYEa2NAuM",
    "khFaJHk-NAuN",
    "VtdJtVBFNAuP",
    "cUNTV45nNAuQ",
    "19K5DQSyNAuR",
    "vkG3AF3CNAuT",
    "mBtxj2BENAuU",
    "6MffJyf4NAuV",
    "OPK9Vi9ENAuW",
    "1MRaPyJ6NAuX",
    "Pdjt6exQNAuZ",
    "A5E3b6JnNAub",
    "Oqy5C2QfNAuc",
    "7DEGfRddNAue",
    "s4bL-pggNAuf",
    "--J-EHvPNAuh",
    "GhzdUxHtNAuj"
   ],
   "name": "SLR - Faculty Notebook (Week 3) [v2.0 - 141020].ipynb",
   "provenance": []
  },
  "kernelspec": {
   "display_name": "Python 3 (ipykernel)",
   "language": "python",
   "name": "python3"
  },
  "language_info": {
   "codemirror_mode": {
    "name": "ipython",
    "version": 3
   },
   "file_extension": ".py",
   "mimetype": "text/x-python",
   "name": "python",
   "nbconvert_exporter": "python",
   "pygments_lexer": "ipython3",
   "version": "3.11.7"
  }
 },
 "nbformat": 4,
 "nbformat_minor": 4
}
